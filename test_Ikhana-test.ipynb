import re
from datetime import datetime

def test_extraer_fecha():
    # Test case 1: Valid date format
    texto = "25 DE DICIEMBRE DE 2022"
    expected_output = datetime(2022, 12, 25)
    assert extraer_fecha(texto) == expected_output

    # Test case 2: Valid date format with lowercase month
    texto = "10 de enero de 2023"
    expected_output = datetime(2023, 1, 10)
    assert extraer_fecha(texto) == expected_output

    # Test case 3: Invalid date format
    texto = "31 DE FEBRERO DE 2024"
    expected_output = None
    assert extraer_fecha(texto) == expected_output

    # Test case 4: Invalid date format with missing day
    texto = "DE ABRIL DE 2025"
    expected_output = None
    assert extraer_fecha(texto) == expected_output

    # Test case 5: Invalid date format with missing month
    texto = "15 DE DE 2026"
    expected_output = None
    assert extraer_fecha(texto) == expected_output

    # Test case 6: Invalid date format with missing year
    texto = "20 DE JUNIO DE"
    expected_output = None
    assert extraer_fecha(texto) == expected_output

    # Test case 7: Invalid date format with invalid month
    texto = "5 DE ABC DE 2027"
    expected_output = None
    assert extraer_fecha(texto) == expected_output

    # Test case 8: Invalid date format with invalid day
    texto = "32 DE JULIO DE 2028"
    expected_output = None
    assert extraer_fecha(texto) == expected_output

    # Test case 9: Invalid date format with invalid year
    texto = "1 DE AGOSTO DE ABCD"
    expected_output = None
    assert extraer_fecha(texto) == expected_output

    print("All test cases passed!")

test_extraer_fecha()