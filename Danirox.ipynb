{
 "cells": [
  {
   "cell_type": "code",
   "execution_count": 1,
   "metadata": {},
   "outputs": [
    {
     "name": "stdout",
     "output_type": "stream",
     "text": [
      "Requirement already satisfied: pdfminer.six in /home/mgraziano/dev/anaconda3/lib/python3.10/site-packages (20231228)\n",
      "Requirement already satisfied: charset-normalizer>=2.0.0 in /home/mgraziano/dev/anaconda3/lib/python3.10/site-packages (from pdfminer.six) (2.0.4)\n",
      "Requirement already satisfied: cryptography>=36.0.0 in /home/mgraziano/dev/anaconda3/lib/python3.10/site-packages (from pdfminer.six) (42.0.2)\n",
      "Requirement already satisfied: cffi>=1.12 in /home/mgraziano/dev/anaconda3/lib/python3.10/site-packages (from cryptography>=36.0.0->pdfminer.six) (1.16.0)\n",
      "Requirement already satisfied: pycparser in /home/mgraziano/dev/anaconda3/lib/python3.10/site-packages (from cffi>=1.12->cryptography>=36.0.0->pdfminer.six) (2.21)\n",
      "Note: you may need to restart the kernel to use updated packages.\n"
     ]
    }
   ],
   "source": [
    "%pip install pdfminer.six"
   ]
  },
  {
   "cell_type": "code",
   "execution_count": 10,
   "metadata": {},
   "outputs": [
    {
     "name": "stdout",
     "output_type": "stream",
     "text": [
      "Disponibles En Formato comun A60, \n",
      "Luz dia y Calida\n",
      "LAMPARA LED 5W CLASSIC\n",
      "LAMPARA LED 7W CLASSIC\n",
      "LAMPARA LED 9W CLASSIC\n",
      "LAMPARA LED 12W CLASSIC\n",
      "LAMPARA LED 14W CLASSIC\n",
      "\n",
      "X20U. $ 77,02\n",
      "X20U. $ 90,58\n",
      "X20U. $ 95,05\n",
      "X20U. $ 119,33\n",
      "X20U. $ 147,31\n",
      "\n",
      "Cambia Automaticamente a Modo de Lámapara\n",
      "De Emergencia, Autonomia de hasta 2,5hs,\n",
      "\n",
      "LAMPARA DE EMERGENCIA 10W DIA\n",
      "\n",
      "X2U. $ 683,43\n",
      "\n",
      "OFERTA DEL 21/06/2022,  hasta agotar stock- Precios netos + iva, Solo Valida Para Cuentas Al Dia\n",
      "\n"
     ]
    },
    {
     "ename": "AttributeError",
     "evalue": "'LTRect' object has no attribute 'get_text'",
     "output_type": "error",
     "traceback": [
      "\u001b[0;31m---------------------------------------------------------------------------\u001b[0m",
      "\u001b[0;31mAttributeError\u001b[0m                            Traceback (most recent call last)",
      "Cell \u001b[0;32mIn[10], line 11\u001b[0m\n\u001b[1;32m      9\u001b[0m \u001b[38;5;28;01mfor\u001b[39;00m page_layout \u001b[38;5;129;01min\u001b[39;00m extract_pages(pdf_path, page_numbers\u001b[38;5;241m=\u001b[39m[\u001b[38;5;241m0\u001b[39m], maxpages\u001b[38;5;241m=\u001b[39m\u001b[38;5;241m1\u001b[39m):\n\u001b[1;32m     10\u001b[0m     \u001b[38;5;28;01mfor\u001b[39;00m element \u001b[38;5;129;01min\u001b[39;00m page_layout:\n\u001b[0;32m---> 11\u001b[0m         \u001b[38;5;28mprint\u001b[39m(\u001b[43melement\u001b[49m\u001b[38;5;241;43m.\u001b[39;49m\u001b[43mget_text\u001b[49m())\n",
      "\u001b[0;31mAttributeError\u001b[0m: 'LTRect' object has no attribute 'get_text'"
     ]
    }
   ],
   "source": [
    "from pdfminer.high_level import extract_text, extract_pages\n",
    "\n",
    "pdf_path = 'danirox.pdf'\n",
    "\n",
    "\n",
    "\n",
    "from pdfminer.high_level import extract_pages\n",
    "from pdfminer.layout import LTTextContainer, LTTextBox\n",
    "for page_layout in extract_pages(pdf_path, page_numbers=[0], maxpages=1):\n",
    "    for element in page_layout:\n",
    "        print(element. element.get_text())"
   ]
  },
  {
   "cell_type": "code",
   "execution_count": null,
   "metadata": {},
   "outputs": [],
   "source": [
    "from pdfminer.high_level import extract_pages\n",
    "from pdfminer.layout import (\n",
    "    LAParams, LTTextBox, LTTextLine, LTFigure, LTImage, LTChar, LTAnno,\n",
    "    LTLine, LTRect, LTCurve, LTTextLineHorizontal, LTTextLineVertical,\n",
    "    LTRect, LTTextBoxHorizontal, LTTextBoxVertical, LTTextGroup\n",
    ")\n",
    "\n",
    "# Ruta al archivo PDF que quieres analizar\n",
    "pdf_path = 'danirox.pdf'\n",
    "\n",
    "# Iterar sobre cada página del documento PDF\n",
    "for page_layout in extract_pages(pdf_path, page_numbers=[0], maxpages=1, laparams=LAParams()):\n",
    "    # Iterar sobre cada elemento en la disposición (layout) de la página\n",
    "    for element in page_layout:\n",
    "        # Imprimir el tipo de elemento\n",
    "        print(f\"Tipo de Elemento: {type(element)}, Clase: {element.__class__.__name__}\")\n",
    "\n",
    "        # Ejemplos de cómo manejar diferentes tipos de elementos:\n",
    "        if isinstance(element, LTTextBox) or isinstance(element, LTTextLine):\n",
    "            print(\"Texto:\", element.get_text())\n",
    "        elif isinstance(element, LTFigure):\n",
    "            print(\"Figura encontrada\")\n",
    "        elif isinstance(element, LTImage):\n",
    "            print(\"Imagen encontrada\")\n",
    "        elif isinstance(element, LTChar):\n",
    "            print(\"Carácter encontrado\")\n",
    "        elif isinstance(element, LTAnno):\n",
    "            print(\"Annotación encontrada\")\n",
    "        elif isinstance(element, LTLine):\n",
    "            print(\"Línea encontrada\")\n",
    "        elif isinstance(element, LTRect):\n",
    "            print(\"Rectángulo encontrado\")\n",
    "        elif isinstance(element, LTCurve):\n",
    "            print(\"Curva encontrada\")\n",
    "        elif isinstance(element, LTTextLineHorizontal):\n",
    "            print(\"Línea de texto horizontal encontrada\")\n",
    "        elif isinstance(element, LTTextLineVertical):\n",
    "            print(\"Línea de texto vertical encontrada\")\n",
    "        elif isinstance(element, LTTextBoxHorizontal):\n",
    "            print(\"Caja de texto horizontal encontrada\")\n",
    "        elif isinstance(element, LTTextBoxVertical):\n",
    "            print(\"Caja de texto vertical encontrada\")\n",
    "        elif isinstance(element, LTTextGroup):\n",
    "            print(\"Grupo de texto encontrado\")\n",
    "        # Aquí puedes agregar más condiciones para otros tipos de elementos si es necesario.\n"
   ]
  }
 ],
 "metadata": {
  "kernelspec": {
   "display_name": "base",
   "language": "python",
   "name": "python3"
  },
  "language_info": {
   "codemirror_mode": {
    "name": "ipython",
    "version": 3
   },
   "file_extension": ".py",
   "mimetype": "text/x-python",
   "name": "python",
   "nbconvert_exporter": "python",
   "pygments_lexer": "ipython3",
   "version": "3.10.13"
  }
 },
 "nbformat": 4,
 "nbformat_minor": 2
}
