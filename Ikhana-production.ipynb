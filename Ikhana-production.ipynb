{
 "cells": [
  {
   "cell_type": "code",
   "execution_count": 10,
   "id": "7f863b71-ccbb-445a-962c-0c428a7538d3",
   "metadata": {},
   "outputs": [],
   "source": [
    "import datetime\n",
    "from openpyxl import load_workbook\n",
    "from helper import extraer_fecha\n",
    "import os\n",
    "class ExcelParser:\n",
    "    string_fecha = 'LISTA DE PRECIOS'\n",
    "    def __init__(self, file_path):\n",
    "        self.file_path = file_path\n",
    "        self.workbook = load_workbook(file_path, data_only=True)\n",
    "        self.sheet = self.workbook.active\n",
    "\n",
    "    def get_file_name(self):\n",
    "        return self.file_path.split('/')[-1]\n",
    "    \n",
    "    def show_content_of_cell(self, cell):\n",
    "        \"\"\"\n",
    "        Muestra el contenido de la celda especificada.\n",
    "        \"\"\"\n",
    "        cell_value = self.sheet[cell].value\n",
    "        print(f\"Content of {cell}: {cell_value}\")\n",
    "    \n",
    "    def print_values_from_range(self, start_row, end_row):\n",
    "        \"\"\"\n",
    "        Recorre las filas desde start_row hasta end_row y crea un diccionario para cada fila\n",
    "        con las claves \"Codigo\", \"Descripcion\", \"Precio\" basándose en los valores de las columnas B, C y D.\n",
    "        Al finalizar, imprime el diccionario de cada fila.\n",
    "        \"\"\"\n",
    "        rows_data = []  # Lista para almacenar los diccionarios de cada fila\n",
    "\n",
    "        for row in range(start_row, end_row + 1):\n",
    "            # Obtiene los valores de las columnas B, C y D para la fila actual.\n",
    "            codigo = self.sheet[f'B{row}'].value or \"Vacío\"\n",
    "            descripcion = self.sheet[f'C{row}'].value or \"Vacío\"\n",
    "            precio = self.sheet[f'D{row}'].value or 0\n",
    "\n",
    "            # Crea un diccionario con las claves y valores obtenidos.\n",
    "            fila_dict = {\n",
    "                \"Codigo\": codigo,\n",
    "                \"Descripcion\": descripcion,\n",
    "                \"Precio\": precio\n",
    "            }\n",
    "\n",
    "            rows_data.append(fila_dict)  # Agrega el diccionario a la lista\n",
    "\n",
    "        return rows_data\n",
    "    \n",
    "    def find_cell_with_text(self, text):\n",
    "        \"\"\"\n",
    "        Busca el texto especificado en el archivo de Excel y devuelve la celda en la que se encuentra.\n",
    "        Si no se encuentra el texto, devuelve None.\n",
    "        \"\"\"\n",
    "        for row in self.sheet.iter_rows():\n",
    "            for cell in row:\n",
    "                if cell.value == text:  # Compare cell value with text\n",
    "                    return cell  # Return the cell object\n",
    "        return None\n",
    "    \n",
    "    def find_cell_starting_with_date(self):\n",
    "        \"\"\"\n",
    "        Busca la celda que comienza con el texto especificado en la primera fila del archivo de Excel y devuelve la celda en la que se encuentra.\n",
    "        Si no se encuentra la celda, devuelve None.\n",
    "        \"\"\"\n",
    "        for cell in self.sheet[1]:\n",
    "            if cell.value and str(cell.value).startswith(ExcelParser.string_fecha):\n",
    "                return cell\n",
    "        return None\n",
    "    \n",
    "    def price_list_date(self):\n",
    "        \"\"\"\n",
    "        Obtiene la fecha de la lista de precios a partir de la celda especificada.\n",
    "        Si no se especifica una celda, busca la celda que contiene la fecha automáticamente.\n",
    "        \"\"\"\n",
    "        cell = self.find_cell_starting_with_date()\n",
    "        if cell:\n",
    "            date = extraer_fecha(cell.value)\n",
    "            return date\n",
    "        return None"
   ]
  },
  {
   "cell_type": "code",
   "execution_count": 2,
   "id": "d23232fa-8850-4c08-910c-49a0ac5c1c65",
   "metadata": {},
   "outputs": [
    {
     "name": "stdout",
     "output_type": "stream",
     "text": [
      "LISTA DE PRECIOS 26 DE JULIO DE 2023          NRO. 25\n",
      "LISTA DE PRECIOS 01 DE ABRIL DE 2022          NRO. 22\n",
      "LISTA DE PRECIOS 13 DE SETIEMBRE DE 2021    NRO. 20\n"
     ]
    }
   ],
   "source": [
    "lista22 = ExcelParser('lista22010422.xlsx')\n",
    "lista25 = ExcelParser('lista25.xlsx')\n",
    "lista20 = ExcelParser('listanro20.xlsx')\n",
    "\n",
    "print(lista25.find_cell_starting_with_text('LISTA DE PRECIOS').value)\n",
    "print(lista22.find_cell_starting_with_text('LISTA DE PRECIOS').value)\n",
    "print(lista20.find_cell_starting_with_text('LISTA DE PRECIOS').value)\n"
   ]
  },
  {
   "cell_type": "code",
   "execution_count": 3,
   "id": "be5a5a99",
   "metadata": {},
   "outputs": [
    {
     "name": "stdout",
     "output_type": "stream",
     "text": [
      "2023-07-26 00:00:00\n",
      "2022-04-01 00:00:00\n",
      "2021-09-13 00:00:00\n"
     ]
    }
   ],
   "source": [
    "print(extraer_fecha(lista25.find_cell_starting_with_text('LISTA DE PRECIOS').value))\n",
    "print(extraer_fecha(lista22.find_cell_starting_with_text('LISTA DE PRECIOS').value))\n",
    "print(extraer_fecha(lista20.find_cell_starting_with_text('LISTA DE PRECIOS').value))\n"
   ]
  }
 ],
 "metadata": {
  "kernelspec": {
   "display_name": "Python 3 (ipykernel)",
   "language": "python",
   "name": "python3"
  },
  "language_info": {
   "codemirror_mode": {
    "name": "ipython",
    "version": 3
   },
   "file_extension": ".py",
   "mimetype": "text/x-python",
   "name": "python",
   "nbconvert_exporter": "python",
   "pygments_lexer": "ipython3",
   "version": "3.10.9"
  }
 },
 "nbformat": 4,
 "nbformat_minor": 5
}
